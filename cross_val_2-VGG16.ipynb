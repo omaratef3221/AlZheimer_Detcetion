{
 "cells": [
  {
   "cell_type": "code",
   "execution_count": 8,
   "id": "f55f9f60",
   "metadata": {},
   "outputs": [],
   "source": [
    "import matplotlib.pyplot as plt\n",
    "import numpy as np\n",
    "import os\n",
    "import PIL\n",
    "import tensorflow as tf\n",
    "import pandas as pd\n",
    "import matplotlib.image as img\n",
    "import gc\n",
    "from sklearn.metrics import classification_report\n",
    "import cv2\n",
    "from tensorflow import keras\n",
    "from tensorflow.keras.layers import *\n",
    "from keras_preprocessing.image import ImageDataGenerator\n",
    "from tensorflow.keras.models import Sequential\n",
    "from tensorflow.keras.utils import image_dataset_from_directory\n",
    "from tensorflow.keras.applications.vgg16 import VGG16\n",
    "from sklearn.model_selection import KFold\n",
    "from sklearn.model_selection import train_test_split as tts\n",
    "import matplotlib.pyplot as plt\n",
    "from sklearn import preprocessing"
   ]
  },
  {
   "cell_type": "code",
   "execution_count": 2,
   "id": "2ebe9afc",
   "metadata": {},
   "outputs": [
    {
     "data": {
      "text/plain": [
       "LabelEncoder()"
      ]
     },
     "execution_count": 2,
     "metadata": {},
     "output_type": "execute_result"
    }
   ],
   "source": [
    "label = []\n",
    "file_path = []\n",
    "training_path = \"archive/AugmentedAlzheimerDataset\"\n",
    "categories = os.listdir(training_path)\n",
    "for category in categories:\n",
    "    for file in os.listdir(os.path.join(training_path, category)):\n",
    "        file_path.append(os.path.join(training_path, category, file))\n",
    "        label.append(category)\n",
    "final_data = pd.DataFrame(list(zip(file_path, label)), columns = [\"file_path\", \"label\"])\n",
    "le = preprocessing.LabelEncoder()\n",
    "le.fit(final_data[\"label\"])"
   ]
  },
  {
   "cell_type": "code",
   "execution_count": 3,
   "id": "0de82d08",
   "metadata": {},
   "outputs": [],
   "source": [
    "images = []\n",
    "for i in final_data.iterrows():\n",
    "    image = cv2.imread(i[1][\"file_path\"])\n",
    "    image = cv2.cvtColor(image, cv2.COLOR_BGR2RGB)\n",
    "    image = cv2.resize(image, (150,150))\n",
    "    image = cv2.normalize(image, None, alpha=0, beta=1, norm_type=cv2.NORM_MINMAX, dtype=cv2.CV_32F)\n",
    "    images.append(image)\n",
    "images = np.array(images, dtype = \"float32\")"
   ]
  },
  {
   "cell_type": "code",
   "execution_count": 4,
   "id": "58225385",
   "metadata": {},
   "outputs": [
    {
     "data": {
      "text/plain": [
       "<AxesSubplot:ylabel='label'>"
      ]
     },
     "execution_count": 4,
     "metadata": {},
     "output_type": "execute_result"
    },
    {
     "data": {
      "image/png": "[encoded data removed]",
      "text/plain": [
       "<Figure size 1080x648 with 1 Axes>"
      ]
     },
     "metadata": {},
     "output_type": "display_data"
    }
   ],
   "source": [
    "pie, ax = plt.subplots(figsize=[15,9])\n",
    "(final_data[\"label\"].value_counts()).plot.pie(autopct = \"%.1f%%\")"
   ]
  },
  {
   "cell_type": "code",
   "execution_count": 5,
   "id": "9434e557",
   "metadata": {},
   "outputs": [],
   "source": [
    "final_data[\"label\"] = le.transform(final_data[\"label\"])"
   ]
  },
  {
   "cell_type": "code",
   "execution_count": 5,
   "id": "9eb16378",
   "metadata": {},
   "outputs": [],
   "source": [
    "x_train, x_test, y_train, y_test = tts(images, label, test_size = 0.3) #Train test split\n",
    "x_train, x_val, y_train, y_val = tts(x_train, y_train, test_size = 0.15) #Train validation Split"
   ]
  },
  {
   "cell_type": "code",
   "execution_count": 6,
   "id": "2dedb07e",
   "metadata": {},
   "outputs": [],
   "source": [
    "x_train = np.array(x_train).astype('float32')\n",
    "x_test = np.array(x_test).astype('float32')\n",
    "y_train = np.array(y_train)\n",
    "y_test = np.array(y_test)\n",
    "x_val = np.array(x_val).astype('float32')\n",
    "y_val = np.array(y_val)\n",
    "\n",
    "y_train = le.transform(y_train).astype('float32')\n",
    "y_test = le.transform(y_test).astype('float32')\n",
    "y_val = le.transform(y_val).astype('float32')"
   ]
  },
  {
   "cell_type": "code",
   "execution_count": 7,
   "id": "f0acdcd5",
   "metadata": {},
   "outputs": [
    {
     "name": "stdout",
     "output_type": "stream",
     "text": [
      "Training Data Shape is:  (20219, 150, 150, 3) (20219,)\n",
      "Validation Data Shape is:  (3569, 150, 150, 3) (3569,)\n",
      "Testing Data Shape is:  (10196, 150, 150, 3) (10196,)\n"
     ]
    }
   ],
   "source": [
    "print(\"Training Data Shape is: \", str(x_train.shape), str(y_train.shape))\n",
    "print(\"Validation Data Shape is: \", str(x_val.shape), str(y_val.shape))\n",
    "print(\"Testing Data Shape is: \", str(x_test.shape), str(y_test.shape))"
   ]
  },
  {
   "cell_type": "code",
   "execution_count": 10,
   "id": "bf133f07",
   "metadata": {},
   "outputs": [
    {
     "name": "stdout",
     "output_type": "stream",
     "text": [
      "Model: \"sequential\"\n",
      "_________________________________________________________________\n",
      " Layer (type)                Output Shape              Param #   \n",
      "=================================================================\n",
      " vgg16 (Functional)          (None, 4, 4, 512)         14714688  \n",
      "                                                                 \n",
      " flatten (Flatten)           (None, 8192)              0         \n",
      "                                                                 \n",
      " dense (Dense)               (None, 4096)              33558528  \n",
      "                                                                 \n",
      " dropout (Dropout)           (None, 4096)              0         \n",
      "                                                                 \n",
      " dense_1 (Dense)             (None, 2048)              8390656   \n",
      "                                                                 \n",
      " dropout_1 (Dropout)         (None, 2048)              0         \n",
      "                                                                 \n",
      " dense_2 (Dense)             (None, 4)                 8196      \n",
      "                                                                 \n",
      "=================================================================\n",
      "Total params: 56,672,068\n",
      "Trainable params: 41,957,380\n",
      "Non-trainable params: 14,714,688\n",
      "_________________________________________________________________\n",
      "None\n"
     ]
    }
   ],
   "source": [
    "base_model = VGG16(weights=\"imagenet\", include_top=False, input_shape=(150,150,3))\n",
    "base_model.trainable = False\n",
    "# Define the model architecture\n",
    "model = Sequential([\n",
    "    base_model,\n",
    "    Flatten(),\n",
    "    Dense(4096, activation = \"relu\"),\n",
    "    Dropout(0.5),\n",
    "    Dense(2048, activation = \"relu\"),\n",
    "    Dropout(0.5),\n",
    "    Dense(4, activation = \"softmax\")\n",
    "    ])\n",
    "print(model.summary())\n",
    "\n",
    "# Compile the model\n",
    "model.compile(loss = \"SparseCategoricalCrossentropy\", \n",
    "          optimizer = tf.keras.optimizers.Adam(learning_rate = 1e-5), \n",
    "          metrics = [\"accuracy\"])"
   ]
  },
  {
   "cell_type": "code",
   "execution_count": 11,
   "id": "7c33e6e4",
   "metadata": {
    "scrolled": true
   },
   "outputs": [
    {
     "name": "stdout",
     "output_type": "stream",
     "text": [
      "------------------------------------------------------------------------\n",
      "Training for fold 1 ...\n",
      "Epoch 1/5\n",
      "9099/9099 [==============================] - 145s 15ms/step - loss: 1.0378 - accuracy: 0.5346 - val_loss: 0.7369 - val_accuracy: 0.6669\n",
      "Epoch 2/5\n",
      "9099/9099 [==============================] - 138s 15ms/step - loss: 0.7354 - accuracy: 0.6734 - val_loss: 0.6148 - val_accuracy: 0.7243\n",
      "Epoch 3/5\n",
      "9099/9099 [==============================] - 140s 15ms/step - loss: 0.6292 - accuracy: 0.7244 - val_loss: 0.6474 - val_accuracy: 0.7030\n",
      "Epoch 4/5\n",
      "9099/9099 [==============================] - 141s 15ms/step - loss: 0.5498 - accuracy: 0.7620 - val_loss: 0.4869 - val_accuracy: 0.7876\n",
      "Epoch 5/5\n",
      "9099/9099 [==============================] - 140s 15ms/step - loss: 0.4940 - accuracy: 0.7877 - val_loss: 0.4773 - val_accuracy: 0.8027\n",
      "Score for fold 1: loss of 0.45494216680526733; accuracy of 82.09693431854248%\n",
      "------------------------------------------------------------------------\n",
      "Training for fold 2 ...\n",
      "Epoch 1/5\n",
      "9099/9099 [==============================] - 140s 15ms/step - loss: 0.4434 - accuracy: 0.8138 - val_loss: 0.3920 - val_accuracy: 0.8389\n",
      "Epoch 2/5\n",
      "9099/9099 [==============================] - 140s 15ms/step - loss: 0.3967 - accuracy: 0.8362 - val_loss: 0.3573 - val_accuracy: 0.8535\n",
      "Epoch 3/5\n",
      "9099/9099 [==============================] - 139s 15ms/step - loss: 0.3546 - accuracy: 0.8538 - val_loss: 0.3163 - val_accuracy: 0.8722\n",
      "Epoch 4/5\n",
      "9099/9099 [==============================] - 137s 15ms/step - loss: 0.3183 - accuracy: 0.8684 - val_loss: 0.3063 - val_accuracy: 0.8818\n",
      "Epoch 5/5\n",
      "9099/9099 [==============================] - 138s 15ms/step - loss: 0.2818 - accuracy: 0.8876 - val_loss: 0.2914 - val_accuracy: 0.8806\n",
      "Score for fold 2: loss of 0.2584350109100342; accuracy of 89.2185926437378%\n",
      "------------------------------------------------------------------------\n",
      "Training for fold 3 ...\n",
      "Epoch 1/5\n",
      "9099/9099 [==============================] - 137s 15ms/step - loss: 0.2608 - accuracy: 0.8965 - val_loss: 0.2792 - val_accuracy: 0.8955\n",
      "Epoch 2/5\n",
      "9099/9099 [==============================] - 137s 15ms/step - loss: 0.2341 - accuracy: 0.9076 - val_loss: 0.2682 - val_accuracy: 0.8966\n",
      "Epoch 3/5\n",
      "9099/9099 [==============================] - 140s 15ms/step - loss: 0.2080 - accuracy: 0.9162 - val_loss: 0.2420 - val_accuracy: 0.9117\n",
      "Epoch 4/5\n",
      "9099/9099 [==============================] - 140s 15ms/step - loss: 0.1933 - accuracy: 0.9228 - val_loss: 0.2193 - val_accuracy: 0.9157\n",
      "Epoch 5/5\n",
      "9099/9099 [==============================] - 141s 15ms/step - loss: 0.1727 - accuracy: 0.9316 - val_loss: 0.1970 - val_accuracy: 0.9263\n",
      "Score for fold 3: loss of 0.13295555114746094; accuracy of 95.0543999671936%\n",
      "------------------------------------------------------------------------\n",
      "Training for fold 4 ...\n",
      "Epoch 1/5\n",
      "9099/9099 [==============================] - 140s 15ms/step - loss: 0.1721 - accuracy: 0.9320 - val_loss: 0.1756 - val_accuracy: 0.9370\n",
      "Epoch 2/5\n",
      "9099/9099 [==============================] - 142s 16ms/step - loss: 0.1502 - accuracy: 0.9420 - val_loss: 0.2256 - val_accuracy: 0.9154\n",
      "Epoch 3/5\n",
      "9099/9099 [==============================] - 137s 15ms/step - loss: 0.1399 - accuracy: 0.9455 - val_loss: 0.1893 - val_accuracy: 0.9311\n",
      "Epoch 4/5\n",
      "9099/9099 [==============================] - 137s 15ms/step - loss: 0.1306 - accuracy: 0.9482 - val_loss: 0.1978 - val_accuracy: 0.9280\n",
      "Epoch 5/5\n",
      "9099/9099 [==============================] - 138s 15ms/step - loss: 0.1196 - accuracy: 0.9535 - val_loss: 0.1732 - val_accuracy: 0.9403\n",
      "Score for fold 4: loss of 0.06654316186904907; accuracy of 97.5271999835968%\n",
      "------------------------------------------------------------------------\n",
      "Training for fold 5 ...\n",
      "Epoch 1/5\n",
      "9099/9099 [==============================] - 137s 15ms/step - loss: 0.1190 - accuracy: 0.9527 - val_loss: 0.1554 - val_accuracy: 0.9470\n",
      "Epoch 2/5\n",
      "9099/9099 [==============================] - 137s 15ms/step - loss: 0.1090 - accuracy: 0.9598 - val_loss: 0.1614 - val_accuracy: 0.9420\n",
      "Epoch 3/5\n",
      "9099/9099 [==============================] - 138s 15ms/step - loss: 0.1096 - accuracy: 0.9587 - val_loss: 0.1835 - val_accuracy: 0.9364\n",
      "Epoch 4/5\n",
      "9099/9099 [==============================] - 139s 15ms/step - loss: 0.0977 - accuracy: 0.9635 - val_loss: 0.1641 - val_accuracy: 0.9484\n",
      "Epoch 5/5\n",
      "9099/9099 [==============================] - 140s 15ms/step - loss: 0.0983 - accuracy: 0.9622 - val_loss: 0.2234 - val_accuracy: 0.9302\n",
      "Score for fold 5: loss of 0.09060875326395035; accuracy of 96.48862481117249%\n",
      "------------------------------------------------------------------------\n",
      "Training for fold 6 ...\n",
      "Epoch 1/5\n",
      "9099/9099 [==============================] - 140s 15ms/step - loss: 0.0906 - accuracy: 0.9652 - val_loss: 0.1554 - val_accuracy: 0.9479\n",
      "Epoch 2/5\n",
      "9099/9099 [==============================] - 140s 15ms/step - loss: 0.0918 - accuracy: 0.9664 - val_loss: 0.1418 - val_accuracy: 0.9557\n",
      "Epoch 3/5\n",
      "9099/9099 [==============================] - 141s 16ms/step - loss: 0.0864 - accuracy: 0.9672 - val_loss: 0.1545 - val_accuracy: 0.9540\n",
      "Epoch 4/5\n",
      "9099/9099 [==============================] - 142s 16ms/step - loss: 0.0791 - accuracy: 0.9703 - val_loss: 0.1311 - val_accuracy: 0.9566\n",
      "Epoch 5/5\n",
      "9099/9099 [==============================] - 140s 15ms/step - loss: 0.0804 - accuracy: 0.9700 - val_loss: 0.1530 - val_accuracy: 0.9543\n",
      "Score for fold 6: loss of 0.031240280717611313; accuracy of 99.06033873558044%\n",
      "------------------------------------------------------------------------\n",
      "Training for fold 7 ...\n",
      "Epoch 1/5\n",
      "9099/9099 [==============================] - 141s 15ms/step - loss: 0.0757 - accuracy: 0.9709 - val_loss: 0.1484 - val_accuracy: 0.9580\n",
      "Epoch 2/5\n",
      "9099/9099 [==============================] - 140s 15ms/step - loss: 0.0734 - accuracy: 0.9722 - val_loss: 0.1659 - val_accuracy: 0.9512\n",
      "Epoch 3/5\n",
      "9099/9099 [==============================] - 138s 15ms/step - loss: 0.0703 - accuracy: 0.9727 - val_loss: 0.1774 - val_accuracy: 0.9462\n",
      "Epoch 4/5\n",
      "9099/9099 [==============================] - 137s 15ms/step - loss: 0.0714 - accuracy: 0.9731 - val_loss: 0.1440 - val_accuracy: 0.9611\n",
      "Epoch 5/5\n",
      "9099/9099 [==============================] - 138s 15ms/step - loss: 0.0665 - accuracy: 0.9743 - val_loss: 0.1403 - val_accuracy: 0.9577\n",
      "Score for fold 7: loss of 0.013851715251803398; accuracy of 99.60435032844543%\n",
      "------------------------------------------------------------------------\n",
      "Training for fold 8 ...\n",
      "Epoch 1/5\n",
      "9099/9099 [==============================] - 139s 15ms/step - loss: 0.0637 - accuracy: 0.9775 - val_loss: 0.1389 - val_accuracy: 0.9625\n",
      "Epoch 2/5\n",
      "9099/9099 [==============================] - 137s 15ms/step - loss: 0.0617 - accuracy: 0.9775 - val_loss: 0.1493 - val_accuracy: 0.9538\n",
      "Epoch 3/5\n",
      "9099/9099 [==============================] - 137s 15ms/step - loss: 0.0619 - accuracy: 0.9771 - val_loss: 0.1371 - val_accuracy: 0.9608\n",
      "Epoch 4/5\n",
      "9099/9099 [==============================] - 137s 15ms/step - loss: 0.0640 - accuracy: 0.9771 - val_loss: 0.2193 - val_accuracy: 0.9322\n",
      "Epoch 5/5\n",
      "9099/9099 [==============================] - 136s 15ms/step - loss: 0.0587 - accuracy: 0.9786 - val_loss: 0.1868 - val_accuracy: 0.9451\n",
      "Score for fold 8: loss of 0.029764924198389053; accuracy of 98.66468906402588%\n",
      "------------------------------------------------------------------------\n",
      "Training for fold 9 ...\n",
      "Epoch 1/5\n",
      "9099/9099 [==============================] - 137s 15ms/step - loss: 0.0569 - accuracy: 0.9786 - val_loss: 0.1238 - val_accuracy: 0.9700\n",
      "Epoch 2/5\n",
      "9099/9099 [==============================] - 137s 15ms/step - loss: 0.0586 - accuracy: 0.9782 - val_loss: 0.1795 - val_accuracy: 0.9512\n",
      "Epoch 3/5\n",
      "9099/9099 [==============================] - 138s 15ms/step - loss: 0.0520 - accuracy: 0.9813 - val_loss: 0.1297 - val_accuracy: 0.9639\n",
      "Epoch 4/5\n",
      "9099/9099 [==============================] - 136s 15ms/step - loss: 0.0532 - accuracy: 0.9804 - val_loss: 0.1544 - val_accuracy: 0.9577\n",
      "Epoch 5/5\n",
      "9099/9099 [==============================] - 137s 15ms/step - loss: 0.0548 - accuracy: 0.9808 - val_loss: 0.1323 - val_accuracy: 0.9672\n",
      "Score for fold 9: loss of 0.006008181720972061; accuracy of 99.95054602622986%\n",
      "------------------------------------------------------------------------\n",
      "Training for fold 10 ...\n"
     ]
    },
    {
     "ename": "InternalError",
     "evalue": "Failed copying input tensor from /job:localhost/replica:0/task:0/device:CPU:0 to /job:localhost/replica:0/task:0/device:GPU:0 in order to run _EagerConst: Dst tensor is not initialized.",
     "output_type": "error",
     "traceback": [
      "\u001b[1;31m---------------------------------------------------------------------------\u001b[0m",
      "\u001b[1;31mInternalError\u001b[0m                             Traceback (most recent call last)",
      "\u001b[1;32m~\\AppData\\Local\\Temp/ipykernel_35300/1900472071.py\u001b[0m in \u001b[0;36m<module>\u001b[1;34m\u001b[0m\n\u001b[0;32m     15\u001b[0m                           \u001b[0mbatch_size\u001b[0m\u001b[1;33m=\u001b[0m\u001b[1;36m2\u001b[0m\u001b[1;33m,\u001b[0m\u001b[1;33m\u001b[0m\u001b[1;33m\u001b[0m\u001b[0m\n\u001b[0;32m     16\u001b[0m                           \u001b[0mepochs\u001b[0m\u001b[1;33m=\u001b[0m\u001b[1;36m5\u001b[0m\u001b[1;33m,\u001b[0m\u001b[1;33m\u001b[0m\u001b[1;33m\u001b[0m\u001b[0m\n\u001b[1;32m---> 17\u001b[1;33m                           verbose=1)\n\u001b[0m\u001b[0;32m     18\u001b[0m     \u001b[0mhistories\u001b[0m\u001b[1;33m.\u001b[0m\u001b[0mappend\u001b[0m\u001b[1;33m(\u001b[0m\u001b[0mhistory\u001b[0m\u001b[1;33m)\u001b[0m\u001b[1;33m\u001b[0m\u001b[1;33m\u001b[0m\u001b[0m\n\u001b[0;32m     19\u001b[0m     \u001b[1;31m# Generate generalization metrics\u001b[0m\u001b[1;33m\u001b[0m\u001b[1;33m\u001b[0m\u001b[1;33m\u001b[0m\u001b[0m\n",
      "\u001b[1;32m~\\anaconda3\\envs\\rnn\\lib\\site-packages\\keras\\utils\\traceback_utils.py\u001b[0m in \u001b[0;36merror_handler\u001b[1;34m(*args, **kwargs)\u001b[0m\n\u001b[0;32m     65\u001b[0m     \u001b[1;32mexcept\u001b[0m \u001b[0mException\u001b[0m \u001b[1;32mas\u001b[0m \u001b[0me\u001b[0m\u001b[1;33m:\u001b[0m  \u001b[1;31m# pylint: disable=broad-except\u001b[0m\u001b[1;33m\u001b[0m\u001b[1;33m\u001b[0m\u001b[0m\n\u001b[0;32m     66\u001b[0m       \u001b[0mfiltered_tb\u001b[0m \u001b[1;33m=\u001b[0m \u001b[0m_process_traceback_frames\u001b[0m\u001b[1;33m(\u001b[0m\u001b[0me\u001b[0m\u001b[1;33m.\u001b[0m\u001b[0m__traceback__\u001b[0m\u001b[1;33m)\u001b[0m\u001b[1;33m\u001b[0m\u001b[1;33m\u001b[0m\u001b[0m\n\u001b[1;32m---> 67\u001b[1;33m       \u001b[1;32mraise\u001b[0m \u001b[0me\u001b[0m\u001b[1;33m.\u001b[0m\u001b[0mwith_traceback\u001b[0m\u001b[1;33m(\u001b[0m\u001b[0mfiltered_tb\u001b[0m\u001b[1;33m)\u001b[0m \u001b[1;32mfrom\u001b[0m \u001b[1;32mNone\u001b[0m\u001b[1;33m\u001b[0m\u001b[1;33m\u001b[0m\u001b[0m\n\u001b[0m\u001b[0;32m     68\u001b[0m     \u001b[1;32mfinally\u001b[0m\u001b[1;33m:\u001b[0m\u001b[1;33m\u001b[0m\u001b[1;33m\u001b[0m\u001b[0m\n\u001b[0;32m     69\u001b[0m       \u001b[1;32mdel\u001b[0m \u001b[0mfiltered_tb\u001b[0m\u001b[1;33m\u001b[0m\u001b[1;33m\u001b[0m\u001b[0m\n",
      "\u001b[1;32m~\\AppData\\Roaming\\Python\\Python37\\site-packages\\tensorflow\\python\\framework\\constant_op.py\u001b[0m in \u001b[0;36mconvert_to_eager_tensor\u001b[1;34m(value, ctx, dtype)\u001b[0m\n\u001b[0;32m    100\u001b[0m       \u001b[0mdtype\u001b[0m \u001b[1;33m=\u001b[0m \u001b[0mdtypes\u001b[0m\u001b[1;33m.\u001b[0m\u001b[0mas_dtype\u001b[0m\u001b[1;33m(\u001b[0m\u001b[0mdtype\u001b[0m\u001b[1;33m)\u001b[0m\u001b[1;33m.\u001b[0m\u001b[0mas_datatype_enum\u001b[0m\u001b[1;33m\u001b[0m\u001b[1;33m\u001b[0m\u001b[0m\n\u001b[0;32m    101\u001b[0m   \u001b[0mctx\u001b[0m\u001b[1;33m.\u001b[0m\u001b[0mensure_initialized\u001b[0m\u001b[1;33m(\u001b[0m\u001b[1;33m)\u001b[0m\u001b[1;33m\u001b[0m\u001b[1;33m\u001b[0m\u001b[0m\n\u001b[1;32m--> 102\u001b[1;33m   \u001b[1;32mreturn\u001b[0m \u001b[0mops\u001b[0m\u001b[1;33m.\u001b[0m\u001b[0mEagerTensor\u001b[0m\u001b[1;33m(\u001b[0m\u001b[0mvalue\u001b[0m\u001b[1;33m,\u001b[0m \u001b[0mctx\u001b[0m\u001b[1;33m.\u001b[0m\u001b[0mdevice_name\u001b[0m\u001b[1;33m,\u001b[0m \u001b[0mdtype\u001b[0m\u001b[1;33m)\u001b[0m\u001b[1;33m\u001b[0m\u001b[1;33m\u001b[0m\u001b[0m\n\u001b[0m\u001b[0;32m    103\u001b[0m \u001b[1;33m\u001b[0m\u001b[0m\n\u001b[0;32m    104\u001b[0m \u001b[1;33m\u001b[0m\u001b[0m\n",
      "\u001b[1;31mInternalError\u001b[0m: Failed copying input tensor from /job:localhost/replica:0/task:0/device:CPU:0 to /job:localhost/replica:0/task:0/device:GPU:0 in order to run _EagerConst: Dst tensor is not initialized."
     ]
    }
   ],
   "source": [
    "acc_per_fold = []\n",
    "loss_per_fold = []\n",
    "histories = []\n",
    "kfold = KFold(n_splits=10, shuffle=True)\n",
    "fold_no = 1\n",
    "for train, test in kfold.split(x_train, y_train):\n",
    "    gc.collect()\n",
    "    gc.collect()\n",
    "    # Generate a print\n",
    "    print('------------------------------------------------------------------------')\n",
    "    print(f'Training for fold {fold_no} ...')\n",
    "    # Fit data to model\n",
    "    history = model.fit(x_train[train], y_train[train],\n",
    "                        validation_data= [x_val, y_val],\n",
    "                          batch_size=2,\n",
    "                          epochs=5,\n",
    "                          verbose=1)\n",
    "    histories.append(history)\n",
    "    # Generate generalization metrics\n",
    "    scores = model.evaluate((x_train)[test], (y_train)[test], verbose=0)\n",
    "    print(f\"Score for fold {fold_no}: {model.metrics_names[0]} of {scores[0]}; {model.metrics_names[1]} of {scores[1]*100}%\")\n",
    "    acc_per_fold.append(scores[1] * 100)\n",
    "    loss_per_fold.append(scores[0])\n",
    "\n",
    "    # Increase fold number\n",
    "    fold_no += 1\n",
    "    gc.collect()\n",
    "    gc.collect()"
   ]
  },
  {
   "cell_type": "code",
   "execution_count": null,
   "id": "d350b454",
   "metadata": {},
   "outputs": [],
   "source": [
    "predictions = model.evaluate(x_test, y_test)"
   ]
  },
  {
   "cell_type": "code",
   "execution_count": 12,
   "id": "f91ab944",
   "metadata": {},
   "outputs": [
    {
     "name": "stdout",
     "output_type": "stream",
     "text": [
      "319/319 [==============================] - 16s 48ms/step\n",
      "              precision    recall  f1-score   support\n",
      "\n",
      "         0.0       0.97      0.99      0.98      2761\n",
      "         1.0       1.00      1.00      1.00      1976\n",
      "         2.0       0.95      0.96      0.96      2830\n",
      "         3.0       0.96      0.93      0.95      2629\n",
      "\n",
      "    accuracy                           0.97     10196\n",
      "   macro avg       0.97      0.97      0.97     10196\n",
      "weighted avg       0.97      0.97      0.97     10196\n",
      "\n"
     ]
    }
   ],
   "source": [
    "predictions = model.predict(x_test)\n",
    "print(classification_report(y_test, np.argmax(predictions, axis = 1)))"
   ]
  },
  {
   "cell_type": "code",
   "execution_count": 14,
   "id": "2fed28cf",
   "metadata": {},
   "outputs": [
    {
     "data": {
      "text/plain": [
       "<keras.callbacks.History at 0x1dc5bfe74a8>"
      ]
     },
     "execution_count": 14,
     "metadata": {},
     "output_type": "execute_result"
    }
   ],
   "source": [
    "histories[0]"
   ]
  },
  {
   "cell_type": "code",
   "execution_count": 22,
   "id": "4278b488",
   "metadata": {},
   "outputs": [
    {
     "data": {
      "image/png": "[encoded data removed]",
      "text/plain": [
       "<Figure size 1080x360 with 2 Axes>"
      ]
     },
     "metadata": {
      "needs_background": "light"
     },
     "output_type": "display_data"
    }
   ],
   "source": [
    "history = histories[5]\n",
    "acc = history.history['accuracy']\n",
    "val_acc = history.history['val_accuracy']\n",
    "loss = history.history['loss']\n",
    "val_loss = history.history['val_loss']\n",
    "epochs_range = range(5)\n",
    "plt.figure(figsize=(15, 5))\n",
    "plt.subplot(1, 2, 1)\n",
    "plt.plot(epochs_range, acc, label='Training Accuracy')\n",
    "plt.plot(epochs_range, val_acc, label='Validation Accuracy')\n",
    "plt.legend(loc='lower right')\n",
    "plt.title('Training and Validation Accuracy ')\n",
    "plt.subplot(1, 2, 2)\n",
    "plt.plot(epochs_range, loss, label='Training Loss')\n",
    "plt.plot(epochs_range, val_loss, label='Validation Loss')\n",
    "plt.legend(loc='upper right')\n",
    "plt.title('Training and Validation Loss')\n",
    "plt.show()"
   ]
  },
  {
   "cell_type": "code",
   "execution_count": null,
   "id": "d052ed6c",
   "metadata": {},
   "outputs": [],
   "source": []
  }
 ],
 "metadata": {
  "kernelspec": {
   "display_name": "rnn",
   "language": "python",
   "name": "rnn"
  },
  "language_info": {
   "codemirror_mode": {
    "name": "ipython",
    "version": 3
   },
   "file_extension": ".py",
   "mimetype": "text/x-python",
   "name": "python",
   "nbconvert_exporter": "python",
   "pygments_lexer": "ipython3",
   "version": "3.7.2"
  }
 },
 "nbformat": 4,
 "nbformat_minor": 5
}
