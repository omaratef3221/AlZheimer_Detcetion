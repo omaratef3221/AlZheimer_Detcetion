{
 "cells": [
  {
   "cell_type": "code",
   "execution_count": 3,
   "id": "611180f3",
   "metadata": {},
   "outputs": [],
   "source": [
    "import matplotlib.pyplot as plt\n",
    "import numpy as np\n",
    "import os\n",
    "import PIL\n",
    "import tensorflow as tf\n",
    "import pandas as pd\n",
    "import matplotlib.image as img\n",
    "\n",
    "from sklearn.metrics import classification_report\n",
    "import cv2\n",
    "from tensorflow import keras\n",
    "from tensorflow.keras.layers import * \n",
    "from tensorflow.keras.models import Sequential\n",
    "from tensorflow.keras.utils import image_dataset_from_directory\n",
    "from sklearn.model_selection import train_test_split as tts\n",
    "from sklearn import preprocessing\n",
    "import gc"
   ]
  },
  {
   "cell_type": "code",
   "execution_count": 4,
   "id": "d1a9e5ab",
   "metadata": {},
   "outputs": [],
   "source": [
    "training_path = \"archive/AugmentedAlzheimerDataset\"\n",
    "categories = os.listdir(training_path)"
   ]
  },
  {
   "cell_type": "code",
   "execution_count": 5,
   "id": "90be328c",
   "metadata": {},
   "outputs": [
    {
     "data": {
      "text/plain": [
       "'D:\\\\Dropbox\\\\Projects\\\\Full_Projects\\\\AlZheimer_Detection\\\\archive\\\\AugmentedAlzheimerDataset'"
      ]
     },
     "execution_count": 5,
     "metadata": {},
     "output_type": "execute_result"
    }
   ],
   "source": [
    "os.path.abspath(training_path)\n"
   ]
  },
  {
   "cell_type": "code",
   "execution_count": 8,
   "id": "ffcc92cb",
   "metadata": {},
   "outputs": [],
   "source": [
    "label = []\n",
    "file_path = []\n",
    "training_path = \"archive/AugmentedAlzheimerDataset\"\n",
    "categories = os.listdir(training_path)\n",
    "for category in categories:\n",
    "    for file in os.listdir(os.path.join(training_path, category)):\n",
    "        file_path.append(os.path.join(training_path, category, file))\n",
    "        label.append(category)"
   ]
  },
  {
   "cell_type": "code",
   "execution_count": 3,
   "id": "e639f957",
   "metadata": {},
   "outputs": [],
   "source": [
    "final_data = pd.DataFrame(list(zip(file_path, label)), columns = [\"file_path\", \"label\"])"
   ]
  },
  {
   "cell_type": "code",
   "execution_count": 9,
   "id": "c0e3e57e",
   "metadata": {},
   "outputs": [
    {
     "data": {
      "text/plain": [
       "<AxesSubplot:ylabel='label'>"
      ]
     },
     "execution_count": 9,
     "metadata": {},
     "output_type": "execute_result"
    },
    {
     "data": {
      "image/png": "[encoded data removed]",
      "text/plain": [
       "<Figure size 1080x648 with 1 Axes>"
      ]
     },
     "metadata": {},
     "output_type": "display_data"
    }
   ],
   "source": [
    "pie, ax = plt.subplots(figsize=[15,9])\n",
    "(final_data[\"label\"].value_counts()).plot.pie(autopct = \"%.1f%%\")"
   ]
  },
  {
   "cell_type": "code",
   "execution_count": 5,
   "id": "ed0df788",
   "metadata": {},
   "outputs": [],
   "source": [
    "le = preprocessing.LabelEncoder()"
   ]
  },
  {
   "cell_type": "code",
   "execution_count": 6,
   "id": "ff1ccc3e",
   "metadata": {},
   "outputs": [
    {
     "data": {
      "text/plain": [
       "LabelEncoder()"
      ]
     },
     "execution_count": 6,
     "metadata": {},
     "output_type": "execute_result"
    }
   ],
   "source": [
    "le.fit(final_data[\"label\"])"
   ]
  },
  {
   "cell_type": "code",
   "execution_count": 7,
   "id": "51d5fa62",
   "metadata": {},
   "outputs": [
    {
     "data": {
      "text/plain": [
       "array([0, 0, 0, ..., 3, 3, 3])"
      ]
     },
     "execution_count": 7,
     "metadata": {},
     "output_type": "execute_result"
    }
   ],
   "source": [
    "le.transform(final_data[\"label\"])"
   ]
  },
  {
   "cell_type": "code",
   "execution_count": 8,
   "id": "2b5a3eba",
   "metadata": {},
   "outputs": [
    {
     "name": "stdout",
     "output_type": "stream",
     "text": [
      "{'MildDemented': 0, 'ModerateDemented': 1, 'NonDemented': 2, 'VeryMildDemented': 3}\n"
     ]
    }
   ],
   "source": [
    "le_name_mapping = dict(zip(le.classes_, le.transform(le.classes_)))\n",
    "print(le_name_mapping)"
   ]
  },
  {
   "cell_type": "code",
   "execution_count": 9,
   "id": "37b9abf0",
   "metadata": {},
   "outputs": [],
   "source": [
    "images = []\n",
    "for i in final_data.iterrows():\n",
    "    image = cv2.imread(i[1][\"file_path\"])\n",
    "    image = cv2.cvtColor(image, cv2.COLOR_BGR2RGB)\n",
    "    image = cv2.resize(image, (150,150))\n",
    "    image = cv2.normalize(image, None, alpha=0, beta=1, norm_type=cv2.NORM_MINMAX, dtype=cv2.CV_32F)\n",
    "    images.append(image)\n",
    "images = np.array(images, dtype = \"float32\")"
   ]
  },
  {
   "cell_type": "code",
   "execution_count": 10,
   "id": "634e83bc",
   "metadata": {},
   "outputs": [],
   "source": [
    "x_train, x_test, y_train, y_test = tts(images, label, test_size = 0.1) #Train test split\n",
    "x_train, x_val, y_train, y_val = tts(x_train, y_train, test_size = 0.1) #Train validation Split"
   ]
  },
  {
   "cell_type": "code",
   "execution_count": 11,
   "id": "92aa1a72",
   "metadata": {},
   "outputs": [],
   "source": [
    "x_train = np.array(x_train)\n",
    "x_test = np.array(x_test)\n",
    "y_train = np.array(y_train)\n",
    "y_test = np.array(y_test)\n",
    "x_val = np.array(x_val)\n",
    "y_val = np.array(y_val)"
   ]
  },
  {
   "cell_type": "code",
   "execution_count": 12,
   "id": "c86ef4cd",
   "metadata": {},
   "outputs": [],
   "source": [
    "y_train = le.transform(y_train)\n",
    "y_test = le.transform(y_test)\n",
    "y_val = le.transform(y_val)"
   ]
  },
  {
   "cell_type": "code",
   "execution_count": 13,
   "id": "9e7734f9",
   "metadata": {},
   "outputs": [
    {
     "name": "stdout",
     "output_type": "stream",
     "text": [
      "Training Data Shape is:  (27526, 150, 150, 3) (27526,)\n",
      "Validation Data Shape is:  (3059, 150, 150, 3) (3059,)\n",
      "Testing Data Shape is:  (3399, 150, 150, 3) (3399,)\n"
     ]
    }
   ],
   "source": [
    "print(\"Training Data Shape is: \", str(x_train.shape), str(y_train.shape))\n",
    "print(\"Validation Data Shape is: \", str(x_val.shape), str(y_val.shape))\n",
    "print(\"Testing Data Shape is: \", str(x_test.shape), str(y_test.shape))"
   ]
  },
  {
   "cell_type": "code",
   "execution_count": 14,
   "id": "c7c29c45",
   "metadata": {},
   "outputs": [],
   "source": [
    "model = Sequential()\n",
    "model.add(Conv2D(128, kernel_size=(3,3), input_shape = x_train[0].shape, activation = \"relu\"))\n",
    "model.add(MaxPooling2D(2,2))\n",
    "model.add(Conv2D(64, kernel_size=(3,3), activation = \"relu\"))\n",
    "model.add(MaxPooling2D(2,2))\n",
    "model.add(Conv2D(32, kernel_size=(3,3), activation = \"relu\"))\n",
    "model.add(MaxPooling2D(2,2))\n",
    "\n",
    "model.add(Flatten())\n",
    "\n",
    "\n",
    "model.add(Dense(32, activation = \"relu\"))\n",
    "model.add(Dropout(0.25))\n",
    "model.add(Dense(4, activation = \"softmax\"))"
   ]
  },
  {
   "cell_type": "code",
   "execution_count": 15,
   "id": "b69ae177",
   "metadata": {},
   "outputs": [
    {
     "name": "stdout",
     "output_type": "stream",
     "text": [
      "Model: \"sequential\"\n",
      "_________________________________________________________________\n",
      " Layer (type)                Output Shape              Param #   \n",
      "=================================================================\n",
      " conv2d (Conv2D)             (None, 148, 148, 32)      896       \n",
      "                                                                 \n",
      " max_pooling2d (MaxPooling2D  (None, 74, 74, 32)       0         \n",
      " )                                                               \n",
      "                                                                 \n",
      " conv2d_1 (Conv2D)           (None, 72, 72, 32)        9248      \n",
      "                                                                 \n",
      " max_pooling2d_1 (MaxPooling  (None, 36, 36, 32)       0         \n",
      " 2D)                                                             \n",
      "                                                                 \n",
      " flatten (Flatten)           (None, 41472)             0         \n",
      "                                                                 \n",
      " dense (Dense)               (None, 32)                1327136   \n",
      "                                                                 \n",
      " dropout (Dropout)           (None, 32)                0         \n",
      "                                                                 \n",
      " dense_1 (Dense)             (None, 4)                 132       \n",
      "                                                                 \n",
      "=================================================================\n",
      "Total params: 1,337,412\n",
      "Trainable params: 1,337,412\n",
      "Non-trainable params: 0\n",
      "_________________________________________________________________\n"
     ]
    }
   ],
   "source": [
    "model.summary()"
   ]
  },
  {
   "cell_type": "code",
   "execution_count": 16,
   "id": "d53b84df",
   "metadata": {},
   "outputs": [],
   "source": [
    "model.compile(loss = \"sparse_categorical_crossentropy\", \n",
    "              optimizer = tf.keras.optimizers.RMSprop(learning_rate = 0.001), \n",
    "              metrics = [\"accuracy\"])"
   ]
  },
  {
   "cell_type": "code",
   "execution_count": 17,
   "id": "2c19f2ad",
   "metadata": {
    "scrolled": true
   },
   "outputs": [
    {
     "name": "stdout",
     "output_type": "stream",
     "text": [
      "Epoch 1/25\n",
      "861/861 - 19s - loss: 0.8654 - accuracy: 0.6274 - val_loss: 0.5766 - val_accuracy: 0.7676 - 19s/epoch - 22ms/step\n",
      "Epoch 2/25\n",
      "861/861 - 12s - loss: 0.4947 - accuracy: 0.8054 - val_loss: 0.4497 - val_accuracy: 0.8251 - 12s/epoch - 14ms/step\n",
      "Epoch 3/25\n",
      "861/861 - 12s - loss: 0.3744 - accuracy: 0.8588 - val_loss: 0.4220 - val_accuracy: 0.8388 - 12s/epoch - 14ms/step\n",
      "Epoch 4/25\n",
      "861/861 - 12s - loss: 0.2937 - accuracy: 0.8941 - val_loss: 0.4001 - val_accuracy: 0.8647 - 12s/epoch - 14ms/step\n",
      "Epoch 5/25\n",
      "861/861 - 12s - loss: 0.2376 - accuracy: 0.9146 - val_loss: 0.4071 - val_accuracy: 0.8624 - 12s/epoch - 14ms/step\n",
      "Epoch 6/25\n",
      "861/861 - 12s - loss: 0.2000 - accuracy: 0.9287 - val_loss: 0.4136 - val_accuracy: 0.8669 - 12s/epoch - 14ms/step\n",
      "Epoch 7/25\n",
      "861/861 - 12s - loss: 0.1656 - accuracy: 0.9420 - val_loss: 0.4510 - val_accuracy: 0.8630 - 12s/epoch - 14ms/step\n",
      "Epoch 8/25\n",
      "861/861 - 12s - loss: 0.1361 - accuracy: 0.9514 - val_loss: 0.4626 - val_accuracy: 0.8754 - 12s/epoch - 14ms/step\n",
      "Epoch 9/25\n",
      "861/861 - 12s - loss: 0.1159 - accuracy: 0.9589 - val_loss: 0.4778 - val_accuracy: 0.8647 - 12s/epoch - 14ms/step\n",
      "Epoch 10/25\n",
      "861/861 - 12s - loss: 0.1015 - accuracy: 0.9644 - val_loss: 0.5173 - val_accuracy: 0.8637 - 12s/epoch - 14ms/step\n",
      "Epoch 11/25\n",
      "861/861 - 12s - loss: 0.0871 - accuracy: 0.9697 - val_loss: 0.4920 - val_accuracy: 0.8843 - 12s/epoch - 14ms/step\n",
      "Epoch 12/25\n",
      "861/861 - 12s - loss: 0.0762 - accuracy: 0.9723 - val_loss: 0.6509 - val_accuracy: 0.8591 - 12s/epoch - 14ms/step\n",
      "Epoch 13/25\n",
      "861/861 - 12s - loss: 0.0669 - accuracy: 0.9767 - val_loss: 0.5792 - val_accuracy: 0.8683 - 12s/epoch - 14ms/step\n",
      "Epoch 14/25\n",
      "861/861 - 12s - loss: 0.0638 - accuracy: 0.9775 - val_loss: 0.5765 - val_accuracy: 0.8839 - 12s/epoch - 14ms/step\n",
      "Epoch 15/25\n",
      "861/861 - 12s - loss: 0.0546 - accuracy: 0.9812 - val_loss: 0.5834 - val_accuracy: 0.8781 - 12s/epoch - 14ms/step\n",
      "Epoch 16/25\n",
      "861/861 - 12s - loss: 0.0489 - accuracy: 0.9822 - val_loss: 0.6221 - val_accuracy: 0.8790 - 12s/epoch - 14ms/step\n",
      "Epoch 17/25\n",
      "861/861 - 12s - loss: 0.0480 - accuracy: 0.9833 - val_loss: 0.6587 - val_accuracy: 0.8790 - 12s/epoch - 14ms/step\n",
      "Epoch 18/25\n",
      "861/861 - 13s - loss: 0.0427 - accuracy: 0.9848 - val_loss: 0.7494 - val_accuracy: 0.8781 - 13s/epoch - 15ms/step\n",
      "Epoch 19/25\n",
      "861/861 - 12s - loss: 0.0416 - accuracy: 0.9854 - val_loss: 0.6782 - val_accuracy: 0.8784 - 12s/epoch - 14ms/step\n",
      "Epoch 20/25\n",
      "861/861 - 12s - loss: 0.0397 - accuracy: 0.9861 - val_loss: 0.6998 - val_accuracy: 0.8804 - 12s/epoch - 14ms/step\n",
      "Epoch 21/25\n",
      "861/861 - 12s - loss: 0.0375 - accuracy: 0.9868 - val_loss: 0.7382 - val_accuracy: 0.8826 - 12s/epoch - 14ms/step\n",
      "Epoch 22/25\n",
      "861/861 - 12s - loss: 0.0320 - accuracy: 0.9887 - val_loss: 0.7405 - val_accuracy: 0.8777 - 12s/epoch - 14ms/step\n",
      "Epoch 23/25\n",
      "861/861 - 12s - loss: 0.0336 - accuracy: 0.9889 - val_loss: 0.7343 - val_accuracy: 0.8800 - 12s/epoch - 14ms/step\n",
      "Epoch 24/25\n",
      "861/861 - 13s - loss: 0.0273 - accuracy: 0.9906 - val_loss: 0.7839 - val_accuracy: 0.8849 - 13s/epoch - 15ms/step\n",
      "Epoch 25/25\n",
      "861/861 - 12s - loss: 0.0305 - accuracy: 0.9897 - val_loss: 0.7719 - val_accuracy: 0.8839 - 12s/epoch - 14ms/step\n"
     ]
    },
    {
     "data": {
      "text/plain": [
       "<keras.callbacks.History at 0x1f0c55d7710>"
      ]
     },
     "execution_count": 17,
     "metadata": {},
     "output_type": "execute_result"
    }
   ],
   "source": [
    "model.fit(x_train,y_train, \n",
    "         validation_data = [x_val, y_val],\n",
    "         batch_size = 32,\n",
    "         epochs = 25,\n",
    "         verbose = 2,\n",
    "         callbacks = [tf.keras.callbacks.TensorBoard(log_dir = \"./logs/image_classification_holdout\")])"
   ]
  },
  {
   "cell_type": "code",
   "execution_count": 18,
   "id": "e323f159",
   "metadata": {},
   "outputs": [],
   "source": [
    "model.save(\"cat_dog.h5\")"
   ]
  },
  {
   "cell_type": "code",
   "execution_count": 19,
   "id": "6dcf0baf",
   "metadata": {},
   "outputs": [
    {
     "name": "stdout",
     "output_type": "stream",
     "text": [
      "107/107 [==============================] - 1s 8ms/step - loss: 0.7868 - accuracy: 0.8782\n"
     ]
    }
   ],
   "source": [
    "predictions = model.evaluate(x_test, y_test)"
   ]
  },
  {
   "cell_type": "code",
   "execution_count": 20,
   "id": "6765763d",
   "metadata": {},
   "outputs": [
    {
     "name": "stdout",
     "output_type": "stream",
     "text": [
      "107/107 [==============================] - 1s 6ms/step\n",
      "              precision    recall  f1-score   support\n",
      "\n",
      "           0       0.87      0.88      0.87       889\n",
      "           1       0.98      0.99      0.98       685\n",
      "           2       0.91      0.83      0.87       969\n",
      "           3       0.79      0.84      0.81       856\n",
      "\n",
      "    accuracy                           0.88      3399\n",
      "   macro avg       0.88      0.89      0.88      3399\n",
      "weighted avg       0.88      0.88      0.88      3399\n",
      "\n"
     ]
    }
   ],
   "source": [
    "gc.collect()\n",
    "predictions = model.predict(x_test)\n",
    "print(classification_report(y_test, np.round(np.argmax(predictions, axis = 1))))"
   ]
  },
  {
   "cell_type": "code",
   "execution_count": 1,
   "id": "a6417fdb",
   "metadata": {},
   "outputs": [
    {
     "name": "stdout",
     "output_type": "stream",
     "text": [
      "hello world\n"
     ]
    }
   ],
   "source": [
    "exec('print(\"hello world\")')"
   ]
  },
  {
   "cell_type": "code",
   "execution_count": null,
   "id": "e46fac1f",
   "metadata": {},
   "outputs": [],
   "source": []
  }
 ],
 "metadata": {
  "kernelspec": {
   "display_name": "rnn",
   "language": "python",
   "name": "rnn"
  },
  "language_info": {
   "codemirror_mode": {
    "name": "ipython",
    "version": 3
   },
   "file_extension": ".py",
   "mimetype": "text/x-python",
   "name": "python",
   "nbconvert_exporter": "python",
   "pygments_lexer": "ipython3",
   "version": "3.7.2"
  }
 },
 "nbformat": 4,
 "nbformat_minor": 5
}
