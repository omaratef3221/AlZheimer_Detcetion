{
 "cells": [
  {
   "cell_type": "code",
   "execution_count": 1,
   "id": "f55f9f60",
   "metadata": {},
   "outputs": [],
   "source": [
    "import matplotlib.pyplot as plt\n",
    "import numpy as np\n",
    "import os\n",
    "import PIL\n",
    "import tensorflow as tf\n",
    "import pandas as pd\n",
    "import matplotlib.image as img\n",
    "import gc\n",
    "from sklearn.metrics import classification_report\n",
    "import cv2\n",
    "from tensorflow import keras\n",
    "from tensorflow.keras.layers import *\n",
    "from keras_preprocessing.image import ImageDataGenerator\n",
    "from tensorflow.keras.models import Sequential\n",
    "from tensorflow.keras.utils import image_dataset_from_directory\n",
    "from sklearn.model_selection import KFold\n",
    "from sklearn.model_selection import train_test_split as tts\n",
    "import matplotlib.pyplot as plt\n",
    "from sklearn import preprocessing"
   ]
  },
  {
   "cell_type": "code",
   "execution_count": 2,
   "id": "2ebe9afc",
   "metadata": {},
   "outputs": [
    {
     "data": {
      "text/plain": [
       "LabelEncoder()"
      ]
     },
     "execution_count": 2,
     "metadata": {},
     "output_type": "execute_result"
    }
   ],
   "source": [
    "label = []\n",
    "file_path = []\n",
    "training_path = \"archive/AugmentedAlzheimerDataset\"\n",
    "categories = os.listdir(training_path)\n",
    "for category in categories:\n",
    "    for file in os.listdir(os.path.join(training_path, category)):\n",
    "        file_path.append(os.path.join(training_path, category, file))\n",
    "        label.append(category)\n",
    "final_data = pd.DataFrame(list(zip(file_path, label)), columns = [\"file_path\", \"label\"])\n",
    "le = preprocessing.LabelEncoder()\n",
    "le.fit(final_data[\"label\"])"
   ]
  },
  {
   "cell_type": "code",
   "execution_count": 3,
   "id": "0de82d08",
   "metadata": {},
   "outputs": [],
   "source": [
    "images = []\n",
    "for i in final_data.iterrows():\n",
    "    image = cv2.imread(i[1][\"file_path\"])\n",
    "    image = cv2.cvtColor(image, cv2.COLOR_BGR2RGB)\n",
    "    image = cv2.resize(image, (150,150))\n",
    "    image = cv2.normalize(image, None, alpha=0, beta=1, norm_type=cv2.NORM_MINMAX, dtype=cv2.CV_32F)\n",
    "    images.append(image)\n",
    "images = np.array(images, dtype = \"float32\")"
   ]
  },
  {
   "cell_type": "code",
   "execution_count": 4,
   "id": "58225385",
   "metadata": {},
   "outputs": [
    {
     "data": {
      "text/plain": [
       "<AxesSubplot:ylabel='label'>"
      ]
     },
     "execution_count": 4,
     "metadata": {},
     "output_type": "execute_result"
    },
    {
     "data": {
      "image/png": "[encoded data removed]",
      "text/plain": [
       "<Figure size 1080x648 with 1 Axes>"
      ]
     },
     "metadata": {},
     "output_type": "display_data"
    }
   ],
   "source": [
    "pie, ax = plt.subplots(figsize=[15,9])\n",
    "(final_data[\"label\"].value_counts()).plot.pie(autopct = \"%.1f%%\")"
   ]
  },
  {
   "cell_type": "code",
   "execution_count": 5,
   "id": "9434e557",
   "metadata": {},
   "outputs": [],
   "source": [
    "final_data[\"label\"] = le.transform(final_data[\"label\"])"
   ]
  },
  {
   "cell_type": "code",
   "execution_count": 6,
   "id": "9eb16378",
   "metadata": {},
   "outputs": [],
   "source": [
    "x_train, x_test, y_train, y_test = tts(images, label, test_size = 0.3) #Train test split\n",
    "x_train, x_val, y_train, y_val = tts(x_train, y_train, test_size = 0.15) #Train validation Split"
   ]
  },
  {
   "cell_type": "code",
   "execution_count": 7,
   "id": "2dedb07e",
   "metadata": {},
   "outputs": [],
   "source": [
    "x_train = np.array(x_train).astype('float32')\n",
    "x_test = np.array(x_test).astype('float32')\n",
    "y_train = np.array(y_train)\n",
    "y_test = np.array(y_test)\n",
    "x_val = np.array(x_val).astype('float32')\n",
    "y_val = np.array(y_val)\n",
    "\n",
    "y_train = le.transform(y_train).astype('float32')\n",
    "y_test = le.transform(y_test).astype('float32')\n",
    "y_val = le.transform(y_val).astype('float32')"
   ]
  },
  {
   "cell_type": "code",
   "execution_count": 8,
   "id": "f0acdcd5",
   "metadata": {},
   "outputs": [
    {
     "name": "stdout",
     "output_type": "stream",
     "text": [
      "Training Data Shape is:  (20219, 150, 150, 3) (20219,)\n",
      "Validation Data Shape is:  (3569, 150, 150, 3) (3569,)\n",
      "Testing Data Shape is:  (10196, 150, 150, 3) (10196,)\n"
     ]
    }
   ],
   "source": [
    "print(\"Training Data Shape is: \", str(x_train.shape), str(y_train.shape))\n",
    "print(\"Validation Data Shape is: \", str(x_val.shape), str(y_val.shape))\n",
    "print(\"Testing Data Shape is: \", str(x_test.shape), str(y_test.shape))"
   ]
  },
  {
   "cell_type": "code",
   "execution_count": 9,
   "id": "bf133f07",
   "metadata": {},
   "outputs": [
    {
     "name": "stdout",
     "output_type": "stream",
     "text": [
      "Model: \"sequential\"\n",
      "_________________________________________________________________\n",
      " Layer (type)                Output Shape              Param #   \n",
      "=================================================================\n",
      " conv2d (Conv2D)             (None, 148, 148, 128)     3584      \n",
      "                                                                 \n",
      " max_pooling2d (MaxPooling2D  (None, 74, 74, 128)      0         \n",
      " )                                                               \n",
      "                                                                 \n",
      " conv2d_1 (Conv2D)           (None, 72, 72, 64)        73792     \n",
      "                                                                 \n",
      " max_pooling2d_1 (MaxPooling  (None, 36, 36, 64)       0         \n",
      " 2D)                                                             \n",
      "                                                                 \n",
      " conv2d_2 (Conv2D)           (None, 34, 34, 32)        18464     \n",
      "                                                                 \n",
      " max_pooling2d_2 (MaxPooling  (None, 17, 17, 32)       0         \n",
      " 2D)                                                             \n",
      "                                                                 \n",
      " flatten (Flatten)           (None, 9248)              0         \n",
      "                                                                 \n",
      " dense (Dense)               (None, 256)               2367744   \n",
      "                                                                 \n",
      " dropout (Dropout)           (None, 256)               0         \n",
      "                                                                 \n",
      " dense_1 (Dense)             (None, 64)                16448     \n",
      "                                                                 \n",
      " dropout_1 (Dropout)         (None, 64)                0         \n",
      "                                                                 \n",
      " dense_2 (Dense)             (None, 4)                 260       \n",
      "                                                                 \n",
      "=================================================================\n",
      "Total params: 2,480,292\n",
      "Trainable params: 2,480,292\n",
      "Non-trainable params: 0\n",
      "_________________________________________________________________\n",
      "None\n"
     ]
    }
   ],
   "source": [
    "# Define the model architecture\n",
    "model = Sequential()\n",
    "model.add(Conv2D(128, kernel_size=(3,3), input_shape = (150,150,3), activation = \"relu\"))\n",
    "model.add(MaxPooling2D(2,2))\n",
    "model.add(Conv2D(64, kernel_size=(3,3), activation = \"relu\"))\n",
    "model.add(MaxPooling2D(2,2))\n",
    "model.add(Conv2D(32, kernel_size=(3,3), activation = \"relu\"))\n",
    "model.add(MaxPooling2D(2,2))\n",
    "model.add(Flatten())\n",
    "model.add(Dense(256, activation = \"relu\"))\n",
    "model.add(Dropout(0.5))\n",
    "model.add(Dense(64, activation = \"relu\"))\n",
    "model.add(Dropout(0.5))\n",
    "model.add(Dense(4, activation = \"softmax\"))\n",
    "print(model.summary())\n",
    "\n",
    "# Compile the model\n",
    "model.compile(loss = \"SparseCategoricalCrossentropy\", \n",
    "          optimizer = tf.keras.optimizers.Adam(learning_rate = 1e-5), \n",
    "          metrics = [\"accuracy\"])"
   ]
  },
  {
   "cell_type": "code",
   "execution_count": 10,
   "id": "7c33e6e4",
   "metadata": {
    "scrolled": true
   },
   "outputs": [
    {
     "name": "stdout",
     "output_type": "stream",
     "text": [
      "------------------------------------------------------------------------\n",
      "Training for fold 1 ...\n",
      "Epoch 1/5\n",
      "9099/9099 [==============================] - 67s 7ms/step - loss: 1.3475 - accuracy: 0.3145 - val_loss: 1.2593 - val_accuracy: 0.3959\n",
      "Epoch 2/5\n",
      "9099/9099 [==============================] - 57s 6ms/step - loss: 1.2449 - accuracy: 0.4134 - val_loss: 1.1322 - val_accuracy: 0.5559\n",
      "Epoch 3/5\n",
      "9099/9099 [==============================] - 59s 6ms/step - loss: 1.1312 - accuracy: 0.4911 - val_loss: 0.9804 - val_accuracy: 0.5920\n",
      "Epoch 4/5\n",
      "9099/9099 [==============================] - 58s 6ms/step - loss: 1.0307 - accuracy: 0.5362 - val_loss: 0.8969 - val_accuracy: 0.6156\n",
      "Epoch 5/5\n",
      "9099/9099 [==============================] - 58s 6ms/step - loss: 0.9497 - accuracy: 0.5715 - val_loss: 0.8321 - val_accuracy: 0.6321\n",
      "Score for fold 1: loss of 0.8084144592285156; accuracy of 64.2433226108551%\n",
      "------------------------------------------------------------------------\n",
      "Training for fold 2 ...\n",
      "Epoch 1/5\n",
      "9099/9099 [==============================] - 60s 7ms/step - loss: 0.8950 - accuracy: 0.5934 - val_loss: 0.7844 - val_accuracy: 0.6632\n",
      "Epoch 2/5\n",
      "9099/9099 [==============================] - 59s 6ms/step - loss: 0.8507 - accuracy: 0.6150 - val_loss: 0.7425 - val_accuracy: 0.6775\n",
      "Epoch 3/5\n",
      "9099/9099 [==============================] - 58s 6ms/step - loss: 0.8072 - accuracy: 0.6371 - val_loss: 0.7035 - val_accuracy: 0.6938\n",
      "Epoch 4/5\n",
      "9099/9099 [==============================] - 58s 6ms/step - loss: 0.7720 - accuracy: 0.6547 - val_loss: 0.6843 - val_accuracy: 0.7058\n",
      "Epoch 5/5\n",
      "9099/9099 [==============================] - 57s 6ms/step - loss: 0.7329 - accuracy: 0.6777 - val_loss: 0.6456 - val_accuracy: 0.7212\n",
      "Score for fold 2: loss of 0.628375768661499; accuracy of 72.89811968803406%\n",
      "------------------------------------------------------------------------\n",
      "Training for fold 3 ...\n",
      "Epoch 1/5\n",
      "9099/9099 [==============================] - 58s 6ms/step - loss: 0.6903 - accuracy: 0.6962 - val_loss: 0.5988 - val_accuracy: 0.7450\n",
      "Epoch 2/5\n",
      "9099/9099 [==============================] - 59s 6ms/step - loss: 0.6570 - accuracy: 0.7144 - val_loss: 0.5943 - val_accuracy: 0.7576\n",
      "Epoch 3/5\n",
      "9099/9099 [==============================] - 58s 6ms/step - loss: 0.6198 - accuracy: 0.7322 - val_loss: 0.5568 - val_accuracy: 0.7632\n",
      "Epoch 4/5\n",
      "9099/9099 [==============================] - 57s 6ms/step - loss: 0.5898 - accuracy: 0.7486 - val_loss: 0.5240 - val_accuracy: 0.7770\n",
      "Epoch 5/5\n",
      "9099/9099 [==============================] - 57s 6ms/step - loss: 0.5610 - accuracy: 0.7613 - val_loss: 0.5118 - val_accuracy: 0.7840\n",
      "Score for fold 3: loss of 0.511198103427887; accuracy of 77.69535183906555%\n",
      "------------------------------------------------------------------------\n",
      "Training for fold 4 ...\n",
      "Epoch 1/5\n",
      "9099/9099 [==============================] - 59s 6ms/step - loss: 0.5366 - accuracy: 0.7742 - val_loss: 0.4761 - val_accuracy: 0.7999\n",
      "Epoch 2/5\n",
      "9099/9099 [==============================] - 58s 6ms/step - loss: 0.5046 - accuracy: 0.7883 - val_loss: 0.4507 - val_accuracy: 0.8123\n",
      "Epoch 3/5\n",
      "9099/9099 [==============================] - 57s 6ms/step - loss: 0.4725 - accuracy: 0.8047 - val_loss: 0.4384 - val_accuracy: 0.8226\n",
      "Epoch 4/5\n",
      "9099/9099 [==============================] - 57s 6ms/step - loss: 0.4454 - accuracy: 0.8166 - val_loss: 0.4206 - val_accuracy: 0.8249\n",
      "Epoch 5/5\n",
      "9099/9099 [==============================] - 57s 6ms/step - loss: 0.4150 - accuracy: 0.8273 - val_loss: 0.3937 - val_accuracy: 0.8350\n",
      "Score for fold 4: loss of 0.32509928941726685; accuracy of 86.99307441711426%\n",
      "------------------------------------------------------------------------\n",
      "Training for fold 5 ...\n",
      "Epoch 1/5\n",
      "9099/9099 [==============================] - 57s 6ms/step - loss: 0.3986 - accuracy: 0.8373 - val_loss: 0.4123 - val_accuracy: 0.8350\n",
      "Epoch 2/5\n",
      "9099/9099 [==============================] - 56s 6ms/step - loss: 0.3762 - accuracy: 0.8481 - val_loss: 0.4119 - val_accuracy: 0.8210\n",
      "Epoch 3/5\n",
      "9099/9099 [==============================] - 57s 6ms/step - loss: 0.3549 - accuracy: 0.8604 - val_loss: 0.3568 - val_accuracy: 0.8605\n",
      "Epoch 4/5\n",
      "9099/9099 [==============================] - 57s 6ms/step - loss: 0.3311 - accuracy: 0.8678 - val_loss: 0.3647 - val_accuracy: 0.8563\n",
      "Epoch 5/5\n",
      "9099/9099 [==============================] - 57s 6ms/step - loss: 0.3121 - accuracy: 0.8749 - val_loss: 0.3322 - val_accuracy: 0.8652\n",
      "Score for fold 5: loss of 0.22305011749267578; accuracy of 92.18595623970032%\n",
      "------------------------------------------------------------------------\n",
      "Training for fold 6 ...\n",
      "Epoch 1/5\n",
      "9099/9099 [==============================] - 58s 6ms/step - loss: 0.3009 - accuracy: 0.8807 - val_loss: 0.3204 - val_accuracy: 0.8722\n",
      "Epoch 2/5\n",
      "9099/9099 [==============================] - 57s 6ms/step - loss: 0.2887 - accuracy: 0.8869 - val_loss: 0.3447 - val_accuracy: 0.8565\n",
      "Epoch 3/5\n",
      "9099/9099 [==============================] - 58s 6ms/step - loss: 0.2612 - accuracy: 0.8983 - val_loss: 0.3251 - val_accuracy: 0.8720\n",
      "Epoch 4/5\n",
      "9099/9099 [==============================] - 57s 6ms/step - loss: 0.2475 - accuracy: 0.9030 - val_loss: 0.3229 - val_accuracy: 0.8792\n",
      "Epoch 5/5\n",
      "9099/9099 [==============================] - 58s 6ms/step - loss: 0.2332 - accuracy: 0.9138 - val_loss: 0.3088 - val_accuracy: 0.8762\n",
      "Score for fold 6: loss of 0.14705702662467957; accuracy of 94.9060320854187%\n",
      "------------------------------------------------------------------------\n",
      "Training for fold 7 ...\n",
      "Epoch 1/5\n",
      "9099/9099 [==============================] - 59s 6ms/step - loss: 0.2235 - accuracy: 0.9131 - val_loss: 0.3022 - val_accuracy: 0.8823\n",
      "Epoch 2/5\n",
      "9099/9099 [==============================] - 59s 6ms/step - loss: 0.2137 - accuracy: 0.9179 - val_loss: 0.3020 - val_accuracy: 0.8848\n",
      "Epoch 3/5\n",
      "9099/9099 [==============================] - 57s 6ms/step - loss: 0.1981 - accuracy: 0.9237 - val_loss: 0.2831 - val_accuracy: 0.8851\n",
      "Epoch 4/5\n",
      "9099/9099 [==============================] - 58s 6ms/step - loss: 0.1879 - accuracy: 0.9291 - val_loss: 0.3238 - val_accuracy: 0.8804\n",
      "Epoch 5/5\n",
      "9099/9099 [==============================] - 58s 6ms/step - loss: 0.1792 - accuracy: 0.9325 - val_loss: 0.2952 - val_accuracy: 0.8868\n",
      "Score for fold 7: loss of 0.11600780487060547; accuracy of 95.49950361251831%\n",
      "------------------------------------------------------------------------\n",
      "Training for fold 8 ...\n",
      "Epoch 1/5\n",
      "9099/9099 [==============================] - 58s 6ms/step - loss: 0.1747 - accuracy: 0.9335 - val_loss: 0.3127 - val_accuracy: 0.8865\n",
      "Epoch 2/5\n",
      "9099/9099 [==============================] - 57s 6ms/step - loss: 0.1625 - accuracy: 0.9391 - val_loss: 0.3126 - val_accuracy: 0.8918\n",
      "Epoch 3/5\n",
      "9099/9099 [==============================] - 57s 6ms/step - loss: 0.1515 - accuracy: 0.9416 - val_loss: 0.3051 - val_accuracy: 0.8932\n",
      "Epoch 4/5\n",
      "9099/9099 [==============================] - 58s 6ms/step - loss: 0.1454 - accuracy: 0.9465 - val_loss: 0.3066 - val_accuracy: 0.8848\n",
      "Epoch 5/5\n",
      "9099/9099 [==============================] - 57s 6ms/step - loss: 0.1372 - accuracy: 0.9501 - val_loss: 0.3153 - val_accuracy: 0.8918\n",
      "Score for fold 8: loss of 0.06155788525938988; accuracy of 98.02176356315613%\n",
      "------------------------------------------------------------------------\n",
      "Training for fold 9 ...\n",
      "Epoch 1/5\n",
      "9099/9099 [==============================] - 58s 6ms/step - loss: 0.1342 - accuracy: 0.9504 - val_loss: 0.3050 - val_accuracy: 0.8977\n",
      "Epoch 2/5\n",
      "9099/9099 [==============================] - 58s 6ms/step - loss: 0.1211 - accuracy: 0.9533 - val_loss: 0.3278 - val_accuracy: 0.8927\n",
      "Epoch 3/5\n",
      "9099/9099 [==============================] - 57s 6ms/step - loss: 0.1186 - accuracy: 0.9539 - val_loss: 0.3315 - val_accuracy: 0.8918\n",
      "Epoch 4/5\n",
      "9099/9099 [==============================] - 58s 6ms/step - loss: 0.1143 - accuracy: 0.9572 - val_loss: 0.3277 - val_accuracy: 0.8938\n",
      "Epoch 5/5\n",
      "9099/9099 [==============================] - 57s 6ms/step - loss: 0.1068 - accuracy: 0.9626 - val_loss: 0.3370 - val_accuracy: 0.8938\n",
      "Score for fold 9: loss of 0.04668514430522919; accuracy of 98.71414303779602%\n",
      "------------------------------------------------------------------------\n",
      "Training for fold 10 ...\n",
      "Epoch 1/5\n"
     ]
    },
    {
     "name": "stdout",
     "output_type": "stream",
     "text": [
      "9099/9099 [==============================] - 58s 6ms/step - loss: 0.1060 - accuracy: 0.9620 - val_loss: 0.3556 - val_accuracy: 0.9022\n",
      "Epoch 2/5\n",
      "9099/9099 [==============================] - 58s 6ms/step - loss: 0.1027 - accuracy: 0.9620 - val_loss: 0.3026 - val_accuracy: 0.9000\n",
      "Epoch 3/5\n",
      "9099/9099 [==============================] - 58s 6ms/step - loss: 0.0932 - accuracy: 0.9668 - val_loss: 0.3316 - val_accuracy: 0.9028\n",
      "Epoch 4/5\n",
      "9099/9099 [==============================] - 58s 6ms/step - loss: 0.0931 - accuracy: 0.9669 - val_loss: 0.3683 - val_accuracy: 0.9019\n",
      "Epoch 5/5\n",
      "9099/9099 [==============================] - 59s 6ms/step - loss: 0.0870 - accuracy: 0.9689 - val_loss: 0.3484 - val_accuracy: 0.8955\n",
      "Score for fold 10: loss of 0.02576063759624958; accuracy of 99.40623641014099%\n"
     ]
    }
   ],
   "source": [
    "acc_per_fold = []\n",
    "loss_per_fold = []\n",
    "histories = []\n",
    "kfold = KFold(n_splits=10, shuffle=True)\n",
    "fold_no = 1\n",
    "for train, test in kfold.split(x_train, y_train):\n",
    "    gc.collect()\n",
    "    gc.collect()\n",
    "    # Generate a print\n",
    "    print('------------------------------------------------------------------------')\n",
    "    print(f'Training for fold {fold_no} ...')\n",
    "    # Fit data to model\n",
    "    history = model.fit(x_train[train], y_train[train],\n",
    "                        validation_data= [x_val, y_val],\n",
    "                          batch_size=2,\n",
    "                          epochs=5,\n",
    "                          verbose=1)\n",
    "    histories.append(history)\n",
    "    # Generate generalization metrics\n",
    "    scores = model.evaluate((x_train)[test], (y_train)[test], verbose=0)\n",
    "    print(f\"Score for fold {fold_no}: {model.metrics_names[0]} of {scores[0]}; {model.metrics_names[1]} of {scores[1]*100}%\")\n",
    "    acc_per_fold.append(scores[1] * 100)\n",
    "    loss_per_fold.append(scores[0])\n",
    "\n",
    "    # Increase fold number\n",
    "    fold_no += 1\n",
    "    gc.collect()\n",
    "    gc.collect()"
   ]
  },
  {
   "cell_type": "code",
   "execution_count": 11,
   "id": "d350b454",
   "metadata": {},
   "outputs": [
    {
     "name": "stdout",
     "output_type": "stream",
     "text": [
      "319/319 [==============================] - 5s 16ms/step - loss: 0.3431 - accuracy: 0.8999\n"
     ]
    }
   ],
   "source": [
    "predictions = model.evaluate(x_test, y_test)"
   ]
  },
  {
   "cell_type": "code",
   "execution_count": 12,
   "id": "f91ab944",
   "metadata": {},
   "outputs": [
    {
     "name": "stdout",
     "output_type": "stream",
     "text": [
      "319/319 [==============================] - 4s 13ms/step\n",
      "              precision    recall  f1-score   support\n",
      "\n",
      "         0.0       0.91      0.90      0.90      2808\n",
      "         1.0       0.96      1.00      0.98      1975\n",
      "         2.0       0.91      0.87      0.89      2876\n",
      "         3.0       0.83      0.86      0.85      2537\n",
      "\n",
      "    accuracy                           0.90     10196\n",
      "   macro avg       0.90      0.91      0.90     10196\n",
      "weighted avg       0.90      0.90      0.90     10196\n",
      "\n"
     ]
    }
   ],
   "source": [
    "predictions = model.predict(x_test)\n",
    "print(classification_report(y_test, np.argmax(predictions, axis = 1)))"
   ]
  },
  {
   "cell_type": "code",
   "execution_count": 13,
   "id": "5c231d26",
   "metadata": {},
   "outputs": [
    {
     "data": {
      "text/plain": [
       "<keras.callbacks.History at 0x17af7787630>"
      ]
     },
     "execution_count": 13,
     "metadata": {},
     "output_type": "execute_result"
    }
   ],
   "source": [
    "histories[0]"
   ]
  },
  {
   "cell_type": "code",
   "execution_count": 14,
   "id": "4278b488",
   "metadata": {},
   "outputs": [
    {
     "data": {
      "image/png": "[encoded data removed]",
      "text/plain": [
       "<Figure size 1080x360 with 2 Axes>"
      ]
     },
     "metadata": {
      "needs_background": "light"
     },
     "output_type": "display_data"
    }
   ],
   "source": [
    "history = histories[5]\n",
    "acc = history.history['accuracy']\n",
    "val_acc = history.history['val_accuracy']\n",
    "loss = history.history['loss']\n",
    "val_loss = history.history['val_loss']\n",
    "epochs_range = range(5)\n",
    "plt.figure(figsize=(15, 5))\n",
    "plt.subplot(1, 2, 1)\n",
    "plt.plot(epochs_range, acc, label='Training Accuracy')\n",
    "plt.plot(epochs_range, val_acc, label='Validation Accuracy')\n",
    "plt.legend(loc='lower right')\n",
    "plt.title('Training and Validation Accuracy ')\n",
    "plt.subplot(1, 2, 2)\n",
    "plt.plot(epochs_range, loss, label='Training Loss')\n",
    "plt.plot(epochs_range, val_loss, label='Validation Loss')\n",
    "plt.legend(loc='upper right')\n",
    "plt.title('Training and Validation Loss')\n",
    "plt.show()"
   ]
  },
  {
   "cell_type": "code",
   "execution_count": null,
   "id": "5519313a",
   "metadata": {},
   "outputs": [],
   "source": []
  }
 ],
 "metadata": {
  "kernelspec": {
   "display_name": "rnn",
   "language": "python",
   "name": "rnn"
  },
  "language_info": {
   "codemirror_mode": {
    "name": "ipython",
    "version": 3
   },
   "file_extension": ".py",
   "mimetype": "text/x-python",
   "name": "python",
   "nbconvert_exporter": "python",
   "pygments_lexer": "ipython3",
   "version": "3.7.2"
  }
 },
 "nbformat": 4,
 "nbformat_minor": 5
}
